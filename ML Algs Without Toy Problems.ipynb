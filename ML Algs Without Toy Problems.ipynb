{
 "cells": [
  {
   "cell_type": "code",
   "execution_count": 50,
   "metadata": {},
   "outputs": [],
   "source": [
    "import random\n",
    "import math\n",
    "import csv\n",
    "import multiprocessing\n",
    "import re\n",
    "import seaborn as sns\n",
    "import scipy   as sc\n",
    "import pandas  as pd\n",
    "import numpy   as np\n",
    "\n",
    "from numpy.linalg            import inv\n",
    "from scipy.spatial           import cKDTree\n",
    "from multiprocessing         import Pool\n",
    "from tqdm                    import tqdm_notebook as tqdm\n",
    "from matplotlib              import pyplot as plt\n",
    "from sklearn.model_selection import train_test_split\n",
    "from sklearn                 import preprocessing"
   ]
  },
  {
   "cell_type": "markdown",
   "metadata": {},
   "source": [
    "# Sarcos "
   ]
  },
  {
   "cell_type": "code",
   "execution_count": 2,
   "metadata": {},
   "outputs": [],
   "source": [
    "df = pd.read_csv(open('sarcos_inv.csv'), sep = ',', header = None)"
   ]
  },
  {
   "cell_type": "code",
   "execution_count": 3,
   "metadata": {},
   "outputs": [
    {
     "data": {
      "text/html": [
       "<div>\n",
       "<style scoped>\n",
       "    .dataframe tbody tr th:only-of-type {\n",
       "        vertical-align: middle;\n",
       "    }\n",
       "\n",
       "    .dataframe tbody tr th {\n",
       "        vertical-align: top;\n",
       "    }\n",
       "\n",
       "    .dataframe thead th {\n",
       "        text-align: right;\n",
       "    }\n",
       "</style>\n",
       "<table border=\"1\" class=\"dataframe\">\n",
       "  <thead>\n",
       "    <tr style=\"text-align: right;\">\n",
       "      <th></th>\n",
       "      <th>0</th>\n",
       "      <th>1</th>\n",
       "      <th>2</th>\n",
       "      <th>3</th>\n",
       "      <th>4</th>\n",
       "      <th>5</th>\n",
       "      <th>6</th>\n",
       "      <th>7</th>\n",
       "      <th>8</th>\n",
       "      <th>9</th>\n",
       "      <th>...</th>\n",
       "      <th>12</th>\n",
       "      <th>13</th>\n",
       "      <th>14</th>\n",
       "      <th>15</th>\n",
       "      <th>16</th>\n",
       "      <th>17</th>\n",
       "      <th>18</th>\n",
       "      <th>19</th>\n",
       "      <th>20</th>\n",
       "      <th>21</th>\n",
       "    </tr>\n",
       "  </thead>\n",
       "  <tbody>\n",
       "    <tr>\n",
       "      <th>0</th>\n",
       "      <td>0.019478</td>\n",
       "      <td>-0.134218</td>\n",
       "      <td>0.027439</td>\n",
       "      <td>1.516401</td>\n",
       "      <td>0.300936</td>\n",
       "      <td>0.058259</td>\n",
       "      <td>0.150134</td>\n",
       "      <td>-0.266791</td>\n",
       "      <td>-0.237134</td>\n",
       "      <td>-0.091272</td>\n",
       "      <td>...</td>\n",
       "      <td>0.012774</td>\n",
       "      <td>-1.930253</td>\n",
       "      <td>13.439378</td>\n",
       "      <td>-8.935911</td>\n",
       "      <td>14.242047</td>\n",
       "      <td>13.520240</td>\n",
       "      <td>11.695956</td>\n",
       "      <td>1.210212</td>\n",
       "      <td>-22.119289</td>\n",
       "      <td>50.292652</td>\n",
       "    </tr>\n",
       "    <tr>\n",
       "      <th>1</th>\n",
       "      <td>0.017279</td>\n",
       "      <td>-0.137077</td>\n",
       "      <td>0.026999</td>\n",
       "      <td>1.532517</td>\n",
       "      <td>0.301344</td>\n",
       "      <td>0.058259</td>\n",
       "      <td>0.128653</td>\n",
       "      <td>-0.153640</td>\n",
       "      <td>-0.335279</td>\n",
       "      <td>0.006449</td>\n",
       "      <td>...</td>\n",
       "      <td>0.017012</td>\n",
       "      <td>-2.211089</td>\n",
       "      <td>11.989628</td>\n",
       "      <td>-7.781117</td>\n",
       "      <td>11.613101</td>\n",
       "      <td>9.550076</td>\n",
       "      <td>14.643369</td>\n",
       "      <td>1.015070</td>\n",
       "      <td>-17.048688</td>\n",
       "      <td>44.104164</td>\n",
       "    </tr>\n",
       "    <tr>\n",
       "      <th>2</th>\n",
       "      <td>0.016336</td>\n",
       "      <td>-0.140878</td>\n",
       "      <td>0.027250</td>\n",
       "      <td>1.549670</td>\n",
       "      <td>0.302318</td>\n",
       "      <td>0.059027</td>\n",
       "      <td>0.104104</td>\n",
       "      <td>-0.047313</td>\n",
       "      <td>-0.418732</td>\n",
       "      <td>0.106274</td>\n",
       "      <td>...</td>\n",
       "      <td>0.015857</td>\n",
       "      <td>-2.337160</td>\n",
       "      <td>9.961797</td>\n",
       "      <td>-5.468357</td>\n",
       "      <td>9.550884</td>\n",
       "      <td>5.933340</td>\n",
       "      <td>15.467628</td>\n",
       "      <td>0.910548</td>\n",
       "      <td>-11.415526</td>\n",
       "      <td>37.354858</td>\n",
       "    </tr>\n",
       "    <tr>\n",
       "      <th>3</th>\n",
       "      <td>0.016273</td>\n",
       "      <td>-0.145307</td>\n",
       "      <td>0.029072</td>\n",
       "      <td>1.566855</td>\n",
       "      <td>0.307628</td>\n",
       "      <td>0.059027</td>\n",
       "      <td>0.080321</td>\n",
       "      <td>0.053238</td>\n",
       "      <td>-0.460963</td>\n",
       "      <td>0.188013</td>\n",
       "      <td>...</td>\n",
       "      <td>0.007958</td>\n",
       "      <td>-2.331961</td>\n",
       "      <td>7.332938</td>\n",
       "      <td>-2.434889</td>\n",
       "      <td>7.664916</td>\n",
       "      <td>3.964112</td>\n",
       "      <td>10.309203</td>\n",
       "      <td>0.921360</td>\n",
       "      <td>-5.772058</td>\n",
       "      <td>30.676065</td>\n",
       "    </tr>\n",
       "    <tr>\n",
       "      <th>4</th>\n",
       "      <td>0.017279</td>\n",
       "      <td>-0.150051</td>\n",
       "      <td>0.031083</td>\n",
       "      <td>1.584416</td>\n",
       "      <td>0.314162</td>\n",
       "      <td>0.059027</td>\n",
       "      <td>0.058840</td>\n",
       "      <td>0.133810</td>\n",
       "      <td>-0.462264</td>\n",
       "      <td>0.263975</td>\n",
       "      <td>...</td>\n",
       "      <td>-0.001271</td>\n",
       "      <td>-2.249311</td>\n",
       "      <td>3.797804</td>\n",
       "      <td>0.467865</td>\n",
       "      <td>6.160604</td>\n",
       "      <td>3.175643</td>\n",
       "      <td>2.868096</td>\n",
       "      <td>1.059957</td>\n",
       "      <td>-0.491542</td>\n",
       "      <td>25.920128</td>\n",
       "    </tr>\n",
       "  </tbody>\n",
       "</table>\n",
       "<p>5 rows × 22 columns</p>\n",
       "</div>"
      ],
      "text/plain": [
       "         0         1         2         3         4         5         6   \\\n",
       "0  0.019478 -0.134218  0.027439  1.516401  0.300936  0.058259  0.150134   \n",
       "1  0.017279 -0.137077  0.026999  1.532517  0.301344  0.058259  0.128653   \n",
       "2  0.016336 -0.140878  0.027250  1.549670  0.302318  0.059027  0.104104   \n",
       "3  0.016273 -0.145307  0.029072  1.566855  0.307628  0.059027  0.080321   \n",
       "4  0.017279 -0.150051  0.031083  1.584416  0.314162  0.059027  0.058840   \n",
       "\n",
       "         7         8         9   ...        12        13         14        15  \\\n",
       "0 -0.266791 -0.237134 -0.091272  ...  0.012774 -1.930253  13.439378 -8.935911   \n",
       "1 -0.153640 -0.335279  0.006449  ...  0.017012 -2.211089  11.989628 -7.781117   \n",
       "2 -0.047313 -0.418732  0.106274  ...  0.015857 -2.337160   9.961797 -5.468357   \n",
       "3  0.053238 -0.460963  0.188013  ...  0.007958 -2.331961   7.332938 -2.434889   \n",
       "4  0.133810 -0.462264  0.263975  ... -0.001271 -2.249311   3.797804  0.467865   \n",
       "\n",
       "          16         17         18        19         20         21  \n",
       "0  14.242047  13.520240  11.695956  1.210212 -22.119289  50.292652  \n",
       "1  11.613101   9.550076  14.643369  1.015070 -17.048688  44.104164  \n",
       "2   9.550884   5.933340  15.467628  0.910548 -11.415526  37.354858  \n",
       "3   7.664916   3.964112  10.309203  0.921360  -5.772058  30.676065  \n",
       "4   6.160604   3.175643   2.868096  1.059957  -0.491542  25.920128  \n",
       "\n",
       "[5 rows x 22 columns]"
      ]
     },
     "execution_count": 3,
     "metadata": {},
     "output_type": "execute_result"
    }
   ],
   "source": [
    "df.head()"
   ]
  },
  {
   "cell_type": "code",
   "execution_count": 4,
   "metadata": {},
   "outputs": [],
   "source": [
    "df_np = df.values\n",
    "\n",
    "#x columns\n",
    "X_cols = df_np[:,:-1]\n",
    "\n",
    "#y columns\n",
    "Y_cols = df_np[:,[-1]]"
   ]
  },
  {
   "cell_type": "code",
   "execution_count": 19,
   "metadata": {},
   "outputs": [],
   "source": [
    "X_train, X_test, y_train, y_test = train_test_split(X_cols, Y_cols, train_size=100, random_state=101)\n",
    "X_test = X_test[:50]\n",
    "y_test = y_test[:50]"
   ]
  },
  {
   "cell_type": "code",
   "execution_count": 20,
   "metadata": {},
   "outputs": [
    {
     "name": "stdout",
     "output_type": "stream",
     "text": [
      "(50, 21)\n",
      "(100, 21)\n",
      "(50, 1)\n",
      "(100, 1)\n"
     ]
    }
   ],
   "source": [
    "print(X_test.shape)\n",
    "print(X_train.shape)\n",
    "print(y_test.shape)\n",
    "print(y_train.shape)"
   ]
  },
  {
   "cell_type": "code",
   "execution_count": 21,
   "metadata": {},
   "outputs": [],
   "source": [
    "scaler = preprocessing.StandardScaler().fit(X_train)"
   ]
  },
  {
   "cell_type": "code",
   "execution_count": 22,
   "metadata": {},
   "outputs": [],
   "source": [
    "X_train, X_test = scaler.transform(X_train), scaler.transform(X_test)"
   ]
  },
  {
   "cell_type": "markdown",
   "metadata": {},
   "source": [
    "# MSE Class"
   ]
  },
  {
   "cell_type": "code",
   "execution_count": 23,
   "metadata": {},
   "outputs": [],
   "source": [
    "#this class will be inherited as a _Base class in the below algorithms \n",
    "class _Base():\n",
    "    \n",
    "    def mse(self, X, y):\n",
    "        return np.mean(np.square(self(X) - y))"
   ]
  },
  {
   "cell_type": "markdown",
   "metadata": {},
   "source": [
    "# Linear Regression Class"
   ]
  },
  {
   "cell_type": "code",
   "execution_count": 24,
   "metadata": {},
   "outputs": [],
   "source": [
    "def mse(y_hat, y):\n",
    "    return np.mean(np.square(y_hat - y))"
   ]
  },
  {
   "cell_type": "code",
   "execution_count": 25,
   "metadata": {
    "scrolled": true
   },
   "outputs": [
    {
     "data": {
      "text/plain": [
       "21.71195382174991"
      ]
     },
     "execution_count": 25,
     "metadata": {},
     "output_type": "execute_result"
    }
   ],
   "source": [
    "class LinearRegression():\n",
    "    \n",
    "    def __init__(self,fit_intercept = True):\n",
    "        self.fit_intercept = fit_intercept\n",
    "\n",
    "    def fit(self, X, y):\n",
    "        \n",
    "        if self.fit_intercept:\n",
    "            X = np.insert(X, 0, 1, 1)\n",
    "            W = np.linalg.inv(X.T @ X) @ X.T @ y\n",
    "            self.b = W[0]\n",
    "            self.W = W[1:]\n",
    "        else:\n",
    "            self.b = 0\n",
    "            self.W = np.linalg.inv(X.T @ X) @ X.T @ y\n",
    "        return self\n",
    "            \n",
    "    def __call__(self, X):\n",
    "        return X @ self.W + self.b\n",
    "    \n",
    "model = LinearRegression()\n",
    "model.fit(X_train, y_train)\n",
    "y_hatLR = model(X_test)\n",
    "mse(y_hatLR, y_test)"
   ]
  },
  {
   "cell_type": "markdown",
   "metadata": {},
   "source": [
    "# KNN Class"
   ]
  },
  {
   "cell_type": "code",
   "execution_count": 26,
   "metadata": {
    "scrolled": true
   },
   "outputs": [
    {
     "data": {
      "text/plain": [
       "213.51043830436777"
      ]
     },
     "execution_count": 26,
     "metadata": {},
     "output_type": "execute_result"
    }
   ],
   "source": [
    "class kNearestNeighbors(_Base):\n",
    "\n",
    "    def __init__(self, p = 1, k= 3):\n",
    "        self.p = p\n",
    "        self.k = k\n",
    "    \n",
    "    def fit(self, X, y):\n",
    "        self.X = X\n",
    "        self.y = y\n",
    "        self.t = cKDTree(X)\n",
    "        return self\n",
    "    \n",
    "    def __call__(self, X):\n",
    "        \n",
    "        #calculate minkowski difference \n",
    "        #distance = (np.fabs(X[:,None] - self.X[None,:])**self.p).sum(axis = 2)**(1/self.p)\n",
    "        \n",
    "        #identify nn index\n",
    "        #distance_index  = np.argsort(distance, axis = 1)[:,:self.k]\n",
    "\n",
    "        #calculate distance, identify indexes and weights\n",
    "        distance, distance_index  = self.t.query(X, p = self.p, k = self.k)\n",
    "        distance       = distance.reshape(len(distance), -1)\n",
    "        distance_index = distance_index.reshape(len(distance), -1)\n",
    "\n",
    "        weights = (1/distance) / (1/distance).sum(axis = 1, keepdims = True)\n",
    "\n",
    "        #prediction\n",
    "        prediction     = np.einsum('ijk,ij->ik', self.y[distance_index], weights)\n",
    "\n",
    "        return prediction\n",
    "    \n",
    "model = kNearestNeighbors()    \n",
    "model.fit(X_train, y_train)\n",
    "y_hatKNN = model(X_test)\n",
    "model.mse(X_test, y_test)"
   ]
  },
  {
   "cell_type": "markdown",
   "metadata": {},
   "source": [
    "## KNN Grid Search"
   ]
  },
  {
   "cell_type": "code",
   "execution_count": 27,
   "metadata": {},
   "outputs": [
    {
     "name": "stderr",
     "output_type": "stream",
     "text": [
      "/u/n/jmn43/python/lib/python3.6/site-packages/ipykernel_launcher.py:6: TqdmDeprecationWarning: This function will be removed in tqdm==5.0.0\n",
      "Please use `tqdm.notebook.tqdm` instead of `tqdm.tqdm_notebook`\n",
      "  \n"
     ]
    },
    {
     "data": {
      "application/vnd.jupyter.widget-view+json": {
       "model_id": "3173d5ef8ebf4a9680c9760aca59cb6f",
       "version_major": 2,
       "version_minor": 0
      },
      "text/plain": [
       "HBox(children=(FloatProgress(value=0.0, max=10.0), HTML(value='')))"
      ]
     },
     "metadata": {},
     "output_type": "display_data"
    },
    {
     "name": "stdout",
     "output_type": "stream",
     "text": [
      "\n"
     ]
    }
   ],
   "source": [
    "K = range(1, 11)\n",
    "P = range(1, 6)\n",
    "\n",
    "MSE = np.empty((len(K), len(P)))\n",
    "\n",
    "for i, k in tqdm(enumerate(K), total = len(K)):\n",
    "    for j, p in enumerate(P):\n",
    "        \n",
    "        model  = kNearestNeighbors(k = k, p = p)    \n",
    "        model.fit(X_train, y_train)\n",
    "        MSE[i,j] = model.mse(X_test, y_test)\n",
    "        \n",
    "#np.sort(MSE)"
   ]
  },
  {
   "cell_type": "code",
   "execution_count": 28,
   "metadata": {},
   "outputs": [
    {
     "data": {
      "image/png": "[encoded data removed]",
      "text/plain": [
       "<Figure size 432x288 with 2 Axes>"
      ]
     },
     "metadata": {
      "needs_background": "light"
     },
     "output_type": "display_data"
    }
   ],
   "source": [
    "plt.contourf(MSE)\n",
    "plt.colorbar()\n",
    "\n",
    "plt.xticks(range(len(P)), labels = P)\n",
    "plt.yticks(range(len(K)), labels = K)\n",
    "\n",
    "plt.show()"
   ]
  },
  {
   "cell_type": "code",
   "execution_count": 29,
   "metadata": {},
   "outputs": [
    {
     "data": {
      "image/png": "[encoded data removed]",
      "text/plain": [
       "<Figure size 432x288 with 1 Axes>"
      ]
     },
     "metadata": {
      "needs_background": "light"
     },
     "output_type": "display_data"
    }
   ],
   "source": [
    "sns.heatmap(MSE, cmap=\"twilight_shifted\", annot = True, cbar = False, fmt = '.2f')\n",
    "\n",
    "plt.xticks(np.arange(len(P))+ 0.5, labels = P)\n",
    "plt.yticks(np.arange(len(K))+ 0.5, labels = K)\n",
    "\n",
    "plt.xlabel(\"P value\")\n",
    "plt.ylabel(\"K value\")\n",
    "plt.show()"
   ]
  },
  {
   "cell_type": "markdown",
   "metadata": {},
   "source": [
    "# Random Forest "
   ]
  },
  {
   "cell_type": "markdown",
   "metadata": {},
   "source": [
    "### Decision Tree"
   ]
  },
  {
   "cell_type": "code",
   "execution_count": 30,
   "metadata": {},
   "outputs": [],
   "source": [
    "#create split for first tree\n",
    "def find_split(x, y):\n",
    "\n",
    "    best = {'score' : np.inf}\n",
    "    for i in range(x.shape[1]):\n",
    "        for split in np.unique(x[:,i])[:-1]:\n",
    "            \n",
    "            right_indices = x[:,i] > split\n",
    "            left_indices  = x[:,i] <= split\n",
    "            \n",
    "            right_var = np.var(y[right_indices]) * (np.sum (right_indices))\n",
    "            left_var  = np.var(y[left_indices ])  * (np.sum(left_indices ))\n",
    "            \n",
    "            score = (right_var + left_var)\n",
    "            if score < best['score']:\n",
    "                best = {'feature'       : i,\n",
    "                        'split'         : split,\n",
    "                        'score'         : score, \n",
    "                        'left_indices'  : left_indices,\n",
    "                        'right_indices' : right_indices}\n",
    "    return best"
   ]
  },
  {
   "cell_type": "code",
   "execution_count": 31,
   "metadata": {},
   "outputs": [],
   "source": [
    "#build a single tree\n",
    "def build_tree(x, y, max_depth = 5):\n",
    "    if max_depth == 0 or (y==y[0]).all():\n",
    "        classes, counts = np.unique(y, return_counts=True)\n",
    "        return {'leaf' : True, 'class' : classes.mean()}\n",
    "    \n",
    "    else:\n",
    "        move = find_split(x, y)\n",
    "        \n",
    "        left = build_tree(x[move['left_indices'],:], y[move['left_indices']], max_depth - 1)\n",
    "        right = build_tree(x[move['right_indices'],:], y[move['right_indices']], max_depth - 1)\n",
    "        \n",
    "        return {'leaf'    : False,\n",
    "                'feature' : move['feature'],\n",
    "                'split'   : move['split'],\n",
    "                'score'   : move['score'],\n",
    "                'left'    : left,\n",
    "                'right'   : right}"
   ]
  },
  {
   "cell_type": "code",
   "execution_count": 32,
   "metadata": {},
   "outputs": [],
   "source": [
    "#predict values for one tree\n",
    "def predict_one(tree, sample):\n",
    "    \"\"\"Does the prediction for a single data point\"\"\"\n",
    "    if tree['leaf']:\n",
    "        return tree['class']\n",
    "    \n",
    "    else:\n",
    "        if sample[tree['feature']] <= tree['split']:\n",
    "            return predict_one(tree['left'], sample)\n",
    "        else:\n",
    "            return predict_one(tree['right'], sample)\n",
    "\n",
    "def predict(tree, X):\n",
    "    return np.array(list(map(lambda x : predict_one(tree, x), X)))"
   ]
  },
  {
   "cell_type": "markdown",
   "metadata": {},
   "source": [
    "### Random Forest Prediction"
   ]
  },
  {
   "cell_type": "code",
   "execution_count": 34,
   "metadata": {},
   "outputs": [],
   "source": [
    "# Create a random subsample from the dataset with replacement\n",
    "empty =[]\n",
    "def subsample(N, n, m, pn, pm):\n",
    "    # n - number of rows\n",
    "    # m - number of cols\n",
    "    # N - number of trees\n",
    "    pn = int(n * pn)\n",
    "    pm = int(m * pm)\n",
    "    for i in range(N):\n",
    "        rows = np.random.choice(n, size = pn, replace = True )\n",
    "        cols = np.random.choice(m, size = pm, replace = False) \n",
    "        empty.append(cols)\n",
    "        yield rows, cols\n",
    "        \n",
    "rows, cols = [], []\n",
    "\n",
    "for row, col in subsample(10, *X_train.shape, 1.2, 1.0):\n",
    "    rows.append(row)\n",
    "    cols.append(col)"
   ]
  },
  {
   "cell_type": "code",
   "execution_count": 42,
   "metadata": {},
   "outputs": [],
   "source": [
    "# %%time\n",
    "forest = []\n",
    "def forest_func(X):\n",
    "    for row, col in subsample((10), *X_train.shape, 1.2, 1.0):\n",
    "        #print(row, col, sep = '\\n', end = '\\n\\n')\n",
    "        forest.append(build_tree(X_train[row][:,col], X_train[row]))\n",
    "\n",
    "def _build_tree(i):\n",
    "    return build_tree(X_train[rows[i]][:,cols[i]], y_train[rows[i]])\n",
    "\n",
    "with Pool(32) as p:\n",
    "    forest = p.map(_build_tree, range(10))"
   ]
  },
  {
   "cell_type": "code",
   "execution_count": 43,
   "metadata": {},
   "outputs": [],
   "source": [
    "def predict_forest(forest, X):\n",
    "    return np.array([predict(tree, X[:,col]) for tree, col in zip(forest, empty)]).T.mean\\\n",
    "            (axis = 1, keepdims = True)"
   ]
  },
  {
   "cell_type": "code",
   "execution_count": 44,
   "metadata": {},
   "outputs": [],
   "source": [
    "def mse(y_hat, y):\n",
    "    return np.mean(np.square(y_hat - y))"
   ]
  },
  {
   "cell_type": "code",
   "execution_count": 45,
   "metadata": {},
   "outputs": [],
   "source": [
    "y_hat = predict_forest(forest, X_test)"
   ]
  },
  {
   "cell_type": "code",
   "execution_count": 46,
   "metadata": {},
   "outputs": [
    {
     "data": {
      "text/plain": [
       "123.37859147207683"
      ]
     },
     "execution_count": 46,
     "metadata": {},
     "output_type": "execute_result"
    }
   ],
   "source": [
    "mse(y_hat, y_test)"
   ]
  },
  {
   "cell_type": "markdown",
   "metadata": {},
   "source": [
    "# Gaussian Process Class"
   ]
  },
  {
   "cell_type": "code",
   "execution_count": 47,
   "metadata": {},
   "outputs": [],
   "source": [
    "class LinearRegression():\n",
    "    \n",
    "    def __init__(self,fit_intercept = True):\n",
    "        self.fit_intercept = fit_intercept\n",
    "\n",
    "    def fit(self, X, y):\n",
    "        \n",
    "        if self.fit_intercept:\n",
    "            X = np.insert(X, 0, 1, 1)\n",
    "            W = np.linalg.inv(X.T @ X) @ X.T @ y\n",
    "            self.b = W[0]\n",
    "            self.W = W[1:]\n",
    "        else:\n",
    "            self.b = 0\n",
    "            self.W = np.linalg.inv(X.T @ X) @ X.T @ y\n",
    "        return self\n",
    "            \n",
    "    def __call__(self, X):\n",
    "        return X @ self.W + self.b\n",
    "    \n",
    "lr = LinearRegression()\n",
    "lr.fit(X_train, y_train)\n",
    "y_hat = lr(X_train)\n",
    "residuals = y_train - y_hat"
   ]
  },
  {
   "cell_type": "code",
   "execution_count": 48,
   "metadata": {},
   "outputs": [],
   "source": [
    "class _GPBase():\n",
    "    \n",
    "    def SE_kernel(self, x1, x2, l, s):\n",
    "        x1 = x1 / l\n",
    "        x2 = x2 / l\n",
    "    \n",
    "        self.dist = np.square(x1[:,None] - x2[None,:]).sum(axis =-1) \n",
    "        kernel    = s * np.exp(-self.dist)\n",
    "    \n",
    "        return kernel\n",
    "    \n",
    "    def cost_function(self, n, y, Ks, sigma, L): # Ks := K + noise\n",
    "        \n",
    "        ret = -(1 / 2) * (np.log(2 * np.pi) * n + \n",
    "                          np.prod(np.linalg.slogdet(Ks)) +\n",
    "                          np.trace(y.T.dot(self.K_inv.dot(y))))\n",
    "        \n",
    "        return ret\n",
    "    \n",
    "    def SE_kernel_gradients(self, sigma, y, n, K, l, s, s2):\n",
    "        \n",
    "        # prior hyperparameters\n",
    "        c        = 10\n",
    "        prior_l  = np.log(l)\n",
    "        prior_s  = np.log(s)\n",
    "        prior_s2 = np.log(s2)\n",
    "        \n",
    "        #hyperparameter differentials\n",
    "        d_s2     = sigma * np.eye(n)\n",
    "        d_l      = self.dist * K\n",
    "        d_s      = K\n",
    "\n",
    "        # sigma gradient \n",
    "        g_s2  = - 1 / 2 * (np.trace(self.K_inv @ d_s2) - np.trace(y.T @ self.K_inv @ d_s2 @ self.K_inv @ y))\\\n",
    "                - (c * prior_s2)\n",
    "        \n",
    "        # l gradient \n",
    "        g_l   = - 1 / 2 * (np.trace(self.K_inv @ d_l ) - np.trace(y.T @ self.K_inv @ d_l  @ self.K_inv @ y))\\\n",
    "                - (c * prior_l)\n",
    "\n",
    "        # s gradient \n",
    "        g_s   = - 1 / 2 * (np.trace(self.K_inv @ d_s ) - np.trace(y.T @ self.K_inv @ d_s  @ self.K_inv @ y))\\\n",
    "                - (c * prior_s)\n",
    "        \n",
    "        return g_l, g_s, g_s2"
   ]
  },
  {
   "cell_type": "code",
   "execution_count": 49,
   "metadata": {},
   "outputs": [
    {
     "name": "stderr",
     "output_type": "stream",
     "text": [
      "/u/n/jmn43/python/lib/python3.6/site-packages/ipykernel_launcher.py:28: TqdmDeprecationWarning: This function will be removed in tqdm==5.0.0\n",
      "Please use `tqdm.notebook.tqdm` instead of `tqdm.tqdm_notebook`\n"
     ]
    },
    {
     "data": {
      "application/vnd.jupyter.widget-view+json": {
       "model_id": "4c8f0c1827db4af1a61aceceb75cc91b",
       "version_major": 2,
       "version_minor": 0
      },
      "text/plain": [
       "HBox(children=(FloatProgress(value=0.0, description='GP', max=50.0, style=ProgressStyle(description_width='ini…"
      ]
     },
     "metadata": {},
     "output_type": "display_data"
    },
    {
     "name": "stdout",
     "output_type": "stream",
     "text": [
      "2.40 1.20 1.58 -158.83        \n"
     ]
    },
    {
     "data": {
      "image/png": "[encoded data removed]",
      "text/plain": [
       "<Figure size 432x288 with 1 Axes>"
      ]
     },
     "metadata": {
      "needs_background": "light"
     },
     "output_type": "display_data"
    },
    {
     "data": {
      "text/plain": [
       "20.759329829282045"
      ]
     },
     "execution_count": 49,
     "metadata": {},
     "output_type": "execute_result"
    }
   ],
   "source": [
    "class GaussianProcess(_Base, _GPBase):\n",
    "    \n",
    "    def __init__(self, mu_func = LinearRegression):\n",
    "        self.mu_func = mu_func\n",
    "    \n",
    "    def fit(self, X, y, alpha, epochs):\n",
    "        \n",
    "        self.f   = self.mu_func().fit(X, y)\n",
    "        y        = y - self.f(X)\n",
    "        self.std = y.std()\n",
    "        y        = y / self.std\n",
    "        self.X   = X.copy()\n",
    "        self.y   = y.copy()\n",
    "\n",
    "        np.random.seed(0)\n",
    "        \n",
    "        logl   = np.random.normal(scale = 0.5)\n",
    "        logs   = np.random.normal(scale = 0.5)\n",
    "        logs2  = np.random.normal(scale = 0.5)\n",
    "        \n",
    "        n      = len(X)\n",
    "        I      = np.eye(n)\n",
    "        \n",
    "        self.L = np.empty(epochs + 1)\n",
    "        g_l, g_s, g_s2 = 0, 0, 0\n",
    "        momentum = 0.6\n",
    "        \n",
    "        for i in tqdm(range(epochs), desc = 'GP'):\n",
    "            l, s, s2    = np.exp([logl, logs, logs2])\n",
    "            K           = self.SE_kernel(X, X, l, s)\n",
    "            Ks          = K + s2 * I\n",
    "            L           = np.linalg.cholesky(Ks)\n",
    "            self.K_inv  = sc.linalg.cho_solve((L, True), I)\n",
    "            self.L[i]   = self.cost_function(n, y, Ks, s2, L)\n",
    "            \n",
    "            print('\\r' + ' ' * 30, end = '')\n",
    "            print(f'\\r{l:.2f} {s:.2f} {s2:.2f} {self.L[i]:.2f}', end = '')\n",
    "            \n",
    "            gg_l, gg_s, gg_s2 = self.SE_kernel_gradients(s2, y, n, K, l, s, s2)\n",
    "            \n",
    "            g_l   *= momentum\n",
    "            g_s   *= momentum\n",
    "            g_s2  *= momentum\n",
    "             \n",
    "            g_l   += gg_l\n",
    "            g_s   += gg_s\n",
    "            g_s2  += gg_s2\n",
    "                \n",
    "            logs2 += (g_s2 * alpha)\n",
    "            logs  += (g_s * alpha)\n",
    "            logl  += (g_l * alpha)\n",
    "        \n",
    "        l, s, s2     = np.exp([logl, logs, logs2])\n",
    "        K            = self.SE_kernel(X, X, l, s)\n",
    "        Ks           = K + s2 * I\n",
    "        L            = np.linalg.cholesky(Ks)\n",
    "\n",
    "        self.K_inv   = sc.linalg.cho_solve((L, True), I)    \n",
    "        self.L[-1]   = self.cost_function(n, y, Ks, s2, L)\n",
    "        self.l       = l\n",
    "        self.s       = s\n",
    "        self.s2      = s2\n",
    "        self.params  = l, s, s2\n",
    "        \n",
    "        return self\n",
    "    \n",
    "    def __call__(self, X, batch = 128):\n",
    "        \n",
    "        mu  = lambda X: self.SE_kernel(X, self.X, self.l, self.s).dot(self.K_inv).dot(self.y) * self.std +\\\n",
    "                        self.f(X)\n",
    "        \n",
    "        return np.concatenate([mu(X[i * batch: (i + 1) * batch]) for i in range(len(X) // batch + 1)], axis = 0)\n",
    "    \n",
    "model = GaussianProcess()\n",
    "y_hatGP = model.fit(X_train, y_train, 1e-5, 50)\n",
    "plt.semilogy(-model.L)\n",
    "plt.show()\n",
    "model.mse(X_test, y_test)\n"
   ]
  }
 ],
 "metadata": {
  "kernelspec": {
   "display_name": "Python 3",
   "language": "python",
   "name": "python3"
  },
  "language_info": {
   "codemirror_mode": {
    "name": "ipython",
    "version": 3
   },
   "file_extension": ".py",
   "mimetype": "text/x-python",
   "name": "python",
   "nbconvert_exporter": "python",
   "pygments_lexer": "ipython3",
   "version": "3.7.7"
  }
 },
 "nbformat": 4,
 "nbformat_minor": 2
}
